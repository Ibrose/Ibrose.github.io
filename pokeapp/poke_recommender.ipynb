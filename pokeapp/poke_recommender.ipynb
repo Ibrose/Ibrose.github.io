{
 "cells": [
  {
   "cell_type": "code",
   "execution_count": 72,
   "id": "810247d9",
   "metadata": {},
   "outputs": [],
   "source": [
    "#initialization\n",
    "import pandas as pd\n",
    "import numpy as np\n",
    "data = pd.read_csv(\"./pokedata.csv\") # read data\n",
    "pokelist=data['name'].tolist() # create pokemon list\n",
    "\n",
    "def cos_sim(A, B): # cosine similarity function\n",
    "    return np.dot(A, B)/(np.linalg.norm(A)*np.linalg.norm(B))\n",
    "\n",
    "def poke_recommend(poke):\n",
    "    if poke in pokelist: # if pokemon exists in the list\n",
    "        poke_idx = pokelist.index(poke)\n",
    "        poke_sim = []\n",
    "        poke_ret = []\n",
    "        for i in range(len(pokelist)): # calculate cosine similarity with other pokemon\n",
    "            poke_sim.append([i, cos_sim(data.iloc[poke_idx][2:].tolist(), data.iloc[i][2:].tolist())])\n",
    "\n",
    "        poke_sim.sort(key=lambda x: x[1], reverse=True) # sort highest to lowest cosine similarity \n",
    "        poke_out = [pokelist[poke_sim[1][0]], pokelist[poke_sim[2][0]], pokelist[poke_sim[3][0]]] # find 3 most similar pokemons(first is identical pokemon)\n",
    "        poke_ret.append(poke_out)\n",
    "        poke_ret.append(poke_sim)\n",
    "        return poke_ret # list consists of 2 elements, 1st: recommended pokemon lists, 2nd: \n",
    "    else:\n",
    "        # NUGU recall \"다시 한 번 포켓몬을 말씀해주세요\"\n",
    "        return None"
   ]
  },
  {
   "cell_type": "code",
   "execution_count": 73,
   "id": "e81dd81c",
   "metadata": {},
   "outputs": [
    {
     "name": "stdout",
     "output_type": "stream",
     "text": [
      "['꼬부기', '거북왕', '파이리']\n"
     ]
    }
   ],
   "source": [
    "### main function\n",
    "#to be linked with NUGU speaker\n",
    "\n",
    "poke = '이상해씨' # pokemon input from NUGU speaker\n",
    "#poke_out =[]\n",
    "poke_out = poke_recommend(poke)[0] # recommended 3 pokemons\n",
    "print(poke_out)"
   ]
  },
  {
   "cell_type": "code",
   "execution_count": 75,
   "id": "f8690da9",
   "metadata": {},
   "outputs": [
    {
     "data": {
      "image/png": "[encoded data removed]",
      "text/plain": [
       "<Figure size 432x288 with 1 Axes>"
      ]
     },
     "metadata": {
      "needs_background": "light"
     },
     "output_type": "display_data"
    }
   ],
   "source": [
    "### cosine similarity visual datachart\n",
    "\n",
    "import matplotlib.pyplot as plt\n",
    "import matplotlib, platform\n",
    "import seaborn as sns\n",
    "\n",
    "if platform.system() == 'Windows': # Window \n",
    "    matplotlib.rc('font', family='Malgun Gothic') \n",
    "elif platform.system() == 'Darwin': # Mac \n",
    "    matplotlib.rc('font', family='AppleGothic') \n",
    "else: #linux \n",
    "    matplotlib.rc('font', family='NanumGothic') \n",
    "\n",
    "n = 6 # number of pokemon's cosine similarity you want to check\n",
    "pokemon = []\n",
    "values = []\n",
    "\n",
    "for i in range(n):\n",
    "    pokemon.append(pokelist[poke_recommend(poke)[1][i+1][0]])\n",
    "    values.append(poke_recommend(poke)[1][i+1][1])\n",
    "\n",
    "x = np.arange(n)\n",
    "colors = sns.color_palette('hls',len(pokemon))\n",
    "\n",
    "plt.xticks(x, pokemon)\n",
    "plt.bar(x, values, color=colors)\n",
    "\n",
    "plt.show()"
   ]
  }
 ],
 "metadata": {
  "kernelspec": {
   "display_name": "Python 3",
   "language": "python",
   "name": "python3"
  },
  "language_info": {
   "codemirror_mode": {
    "name": "ipython",
    "version": 3
   },
   "file_extension": ".py",
   "mimetype": "text/x-python",
   "name": "python",
   "nbconvert_exporter": "python",
   "pygments_lexer": "ipython3",
   "version": "3.8.8"
  }
 },
 "nbformat": 4,
 "nbformat_minor": 5
}
